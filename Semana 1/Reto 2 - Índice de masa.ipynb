{
 "cells": [
  {
   "cell_type": "markdown",
   "metadata": {},
   "source": [
    "# Reto 2: Índice de masa corporal\n"
   ]
  },
  {
   "cell_type": "markdown",
   "metadata": {},
   "source": [
    "Cree una función que pueda calcular el índice de masa corporal (BMI) de una persona.\n",
    "\n",
    "La fórmula para calcular el BMI es la siguiente: \n",
    "\n",
    "BMI = peso/(altura^2)\n",
    "\n",
    "En esta fórmula el peso está en kilogramos y la altura en metros. Tenga en cuenta que el peso y altura que reciban su función, van a estar en libras y pulgadas respectivamente, ya que su función será usada en los Estados Unidos.\n",
    "\n",
    "Recuerde que:\n",
    "\n",
    " - 1 libra corresponde a 0.45kg.\n",
    "\n",
    " - 1 pulgada corresponde a 0.025 metros.\n",
    "\n",
    "El valor de retorno debe estar redondeado a dos decimales. \n",
    "\n",
    "\n",
    "Su solución debe tener una función de acuerdo con la siguiente especificación:\n",
    "\n",
    " - Nombre de la función: calcular_BMI\n",
    "\n",
    "Si lo requiere, puede agregar funciones adicionales. \n",
    "\n",
    "Descripción de parámetros:\n",
    "\n",
    "\n",
    "| Nombre   | Tipo   | Descripción |\n",
    "| --------- | ----------- | ----------- |\n",
    "| peso_lb | float | Peso en libras de la persona. |\n",
    "| altura_inch | float | Altura en pulgadas de la persona. |\n",
    "\n",
    "\n",
    "Descripción del retorno:\n",
    "\n",
    "| Tipo      | Descripción |\n",
    "| --------- | ----------- |\n",
    "| float     | Índice de masa corporal de la persona, el valor de retorno debe estar redondeado a dos decimales.    |\n",
    "\n",
    "\n",
    "\n"
   ]
  },
  {
   "cell_type": "code",
   "execution_count": 2,
   "metadata": {},
   "outputs": [],
   "source": [
    "%reset -f"
   ]
  },
  {
   "cell_type": "code",
   "execution_count": 1,
   "metadata": {},
   "outputs": [],
   "source": [
    "import math"
   ]
  },
  {
   "cell_type": "code",
   "execution_count": 2,
   "metadata": {},
   "outputs": [],
   "source": [
    "def BMI(peso_lb: float, altura_inch: float)-> float:\n",
    "    peso_kg = peso_lb * (0.455 / 1)\n",
    "    altura_m = altura_inch * (0.0254 / 1)\n",
    "    return peso_kg / (altura_m ** 2)"
   ]
  },
  {
   "cell_type": "code",
   "execution_count": 3,
   "metadata": {},
   "outputs": [],
   "source": [
    "peso_input = float(input('\\n\\t\\tIntroduzca su peso en libras: '))\n",
    "altura_input = float(input('\\n\\t\\tIntroduzca su altura en pulgadas: '))"
   ]
  },
  {
   "cell_type": "code",
   "execution_count": 6,
   "metadata": {},
   "outputs": [
    {
     "name": "stdout",
     "output_type": "stream",
     "text": [
      "\n",
      "\t\t El BMI de una persona con un peso de 100.0 libras, y una altura de 6.0 es de 1959.03\n"
     ]
    }
   ],
   "source": [
    "print(\n",
    "  '\\n\\t\\t El BMI de una persona con un peso de'\n",
    "  , peso_input\n",
    "  , 'libras, y una altura de'\n",
    "  , altura_input\n",
    "  , 'es de'\n",
    "  , round(BMI(peso_input, altura_input), 2)\n",
    ")"
   ]
  }
 ],
 "metadata": {
  "kernelspec": {
   "display_name": "lolaPy",
   "language": "python",
   "name": "python3"
  },
  "language_info": {
   "codemirror_mode": {
    "name": "ipython",
    "version": 3
   },
   "file_extension": ".py",
   "mimetype": "text/x-python",
   "name": "python",
   "nbconvert_exporter": "python",
   "pygments_lexer": "ipython3",
   "version": "3.12.2"
  },
  "orig_nbformat": 4
 },
 "nbformat": 4,
 "nbformat_minor": 2
}

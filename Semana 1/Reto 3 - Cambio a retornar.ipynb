{
 "cells": [
  {
   "cell_type": "markdown",
   "metadata": {},
   "source": [
    "# Reto 3: Cambio a retornar"
   ]
  },
  {
   "cell_type": "markdown",
   "metadata": {},
   "source": [
    "Considere el software que se ejecuta en una máquina expendedora. Una de las tareas que debe realizar es determinar cuánto cambio debe entregarle al cliente luego de que paga. Escriba una función que recibe la cantidad de dinero (en pesos) a dar como cambio al cliente y retorne un mensaje con la cantidad de monedas de cada denominación que deben ser entregadas, teniendo en cuenta que el cambio se debe otorgar con la menor cantidad de monedas posible.\n",
    "\n",
    "La máquina cuenta con monedas de 500, 200, 100 y 50 pesos, y el cambio total se entregará con monedas de estas denominaciones. El mensaje retornado DEBE seguir el siguiente formato: “A,B,C,D” (sin espacios intermedios) donde A, B, C y D son la cantidad de monedas de 500, 200, 100 y 50, respectivamente.\n",
    "\n",
    "\n",
    "Su solución debe tener una función de acuerdo con la siguiente especificación:\n",
    "\n",
    "Nombre de la función: calcular_cambio\n",
    "\n",
    "Si lo requiere, puede agregar funciones adicionales.\n",
    "\n",
    "Descripción de parámetros:\n",
    "\n",
    "\n",
    "| Nombre   | Tipo   | Descripción |\n",
    "| --------- | ----------- | ----------- |\n",
    "| cambio | int | Valor a entregarle al comprador. |\n",
    "\n",
    "\n",
    "Descripción del retorno:\n",
    "\n",
    "| Tipo      | Descripción |\n",
    "| --------- | ----------- |\n",
    "| str     | Cadena de caracteres que indica cuántas monedas de cada denominación se deben entregarle al comprador (usando la menor cantidad de monedas posible). |\n",
    "\n",
    "\n",
    "\n"
   ]
  },
  {
   "cell_type": "code",
   "execution_count": 9,
   "metadata": {},
   "outputs": [],
   "source": [
    "%reset -f"
   ]
  },
  {
   "cell_type": "code",
   "execution_count": 10,
   "metadata": {},
   "outputs": [],
   "source": [
    "import math"
   ]
  },
  {
   "cell_type": "markdown",
   "metadata": {},
   "source": [
    "La forma de resolver este problema es usando la división entera de python, la cual está hecha con //, de este modo a // b retorna el número inferior de la división"
   ]
  },
  {
   "cell_type": "code",
   "execution_count": 33,
   "metadata": {},
   "outputs": [
    {
     "name": "stdout",
     "output_type": "stream",
     "text": [
      " 2 \n",
      " 3 \n",
      " 2.5 \n",
      " 2 \n",
      " 5.69620253164557 \n",
      " 5.0\n"
     ]
    }
   ],
   "source": [
    "print(\n",
    "    '', 10 // 5\n",
    "  , '\\n', 9 // 3\n",
    "  , '\\n', 5 / 2 \n",
    "  , '\\n', 5 // 2\n",
    "  , '\\n', 9 / 1.58\n",
    "  , '\\n', 9 // 1.58\n",
    ")"
   ]
  },
  {
   "cell_type": "code",
   "execution_count": 15,
   "metadata": {},
   "outputs": [],
   "source": [
    "def calcular_cambio(cambio: int) -> str:\n",
    "  monedas_500 = cambio // 500   \n",
    "  dinero_restante_1 = cambio - (monedas_500 * 500)\n",
    "  \n",
    "  monedas_200 = dinero_restante_1 // 200\n",
    "  dinero_restante_2 = dinero_restante_1 - (monedas_200 * 200)\n",
    "  \n",
    "  monedas_100 = dinero_restante_2 // 100\n",
    "  dinero_restante_3 = dinero_restante_2 - (monedas_100 * 100)\n",
    "  \n",
    "  monedas_50 = dinero_restante_3 // 50   \n",
    "  # =============================================================================\n",
    "  #     return monedas_500, monedas_200, monedas_100, monedas_50\n",
    "  # =============================================================================\n",
    "  return \\\n",
    "      str(monedas_500) + ' moneda(s) de $ 500, ' \\\n",
    "    + str(monedas_200) + ' moneda(s) de $ 200, ' \\\n",
    "    + str(monedas_100) + ' moneda(s) de $ 100 y ' \\\n",
    "    + str(monedas_50) + ' moneda(s) de $ 50'\n"
   ]
  },
  {
   "cell_type": "code",
   "execution_count": 12,
   "metadata": {},
   "outputs": [
    {
     "data": {
      "text/plain": [
       "19.0"
      ]
     },
     "execution_count": 12,
     "metadata": {},
     "output_type": "execute_result"
    }
   ],
   "source": [
    "100 // 5.2"
   ]
  },
  {
   "cell_type": "code",
   "execution_count": 13,
   "metadata": {},
   "outputs": [],
   "source": [
    "x = int(input('\\n\\t\\tIngrese la cantidad de cambio en pesos colombianos: '))"
   ]
  },
  {
   "cell_type": "code",
   "execution_count": 16,
   "metadata": {},
   "outputs": [
    {
     "name": "stdout",
     "output_type": "stream",
     "text": [
      "\n",
      "\t\t El cambio para $ 10000 es de 20 moneda(s) de $ 500, 0 moneda(s) de $ 200, 0 moneda(s) de $ 100 y 0 moneda(s) de $ 50\n"
     ]
    }
   ],
   "source": [
    "print(\n",
    "    '\\n\\t\\t El cambio para $'\n",
    "  , x\n",
    "  , 'es de'\n",
    "  , calcular_cambio(x)\n",
    ")"
   ]
  }
 ],
 "metadata": {
  "kernelspec": {
   "display_name": "lolaPy",
   "language": "python",
   "name": "python3"
  },
  "language_info": {
   "codemirror_mode": {
    "name": "ipython",
    "version": 3
   },
   "file_extension": ".py",
   "mimetype": "text/x-python",
   "name": "python",
   "nbconvert_exporter": "python",
   "pygments_lexer": "ipython3",
   "version": "3.12.2"
  },
  "orig_nbformat": 4
 },
 "nbformat": 4,
 "nbformat_minor": 2
}

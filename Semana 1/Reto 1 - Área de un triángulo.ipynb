{
 "cells": [
  {
   "cell_type": "markdown",
   "metadata": {},
   "source": [
    "# Reto 1: Área de un triángulo"
   ]
  },
  {
   "cell_type": "markdown",
   "metadata": {},
   "source": [
    "El área de un triángulo puede ser calculada cuando se conoce la longitud de sus lados. Teniendo en cuenta que s1, s2 y s3 son las longitudes de los lados del triángulo, se puede calcular el subperímetro s = (s1+s2+s3)/2, y, con este valor, se puede calcular el área del triángulo de la siguiente manera: area = √( s * (s-s1) * (s-s2) * (s-s3) ). \n",
    "\n",
    "Cree una función que recibe la medida de los lados del triángulo y retorna el área de este, redondeada a una cifra decimal. \n",
    "\n",
    "El módulo math puede serle de ayuda para calcular la raíz cuadrada.\n",
    "\n",
    "\n",
    "Su solución debe tener una función de acuerdo con la siguiente especificación:\n",
    "\n",
    "Nombre de la función: area_triangulo\n",
    "\n",
    "Si lo requiere, puede agregar funciones adicionales. \n",
    "\n",
    "Descripción de parámetros:\n",
    "\n",
    "| Nombre   | Tipo   | Descripción |\n",
    "| --------- | ----------- | ----------- |\n",
    "| s1 | float | Longitud de uno de los lados del triángulo. |\n",
    "| s2 | float | Longitud de uno de los lados del triángulo. |\n",
    "| s3 | float | Longitud de uno de los lados del triángulo. |\n",
    "\n",
    "\n",
    "Descripción del retorno:\n",
    "\n",
    "| Tipo      | Descripción |\n",
    "| --------- | ----------- |\n",
    "| float     | El área del triángulo redondeado a una cifra decimal. |\n",
    "\n",
    "\n",
    "\n"
   ]
  },
  {
   "cell_type": "code",
   "execution_count": 2,
   "metadata": {},
   "outputs": [],
   "source": [
    "%reset -f"
   ]
  },
  {
   "cell_type": "code",
   "execution_count": 2,
   "metadata": {},
   "outputs": [],
   "source": [
    "import math"
   ]
  },
  {
   "cell_type": "code",
   "execution_count": 5,
   "metadata": {},
   "outputs": [],
   "source": [
    "def area_triangulo(x: float, y: float, z: float) -> float:\n",
    "  s = (x + y + z) / 2\n",
    "  area = math.sqrt(s * (s - x) * (s - y) * (s - z))\n",
    "  return area"
   ]
  },
  {
   "cell_type": "code",
   "execution_count": 8,
   "metadata": {},
   "outputs": [
    {
     "name": "stdout",
     "output_type": "stream",
     "text": [
      "85.0\n"
     ]
    }
   ],
   "source": [
    "s1 = 9.6\n",
    "s2 = 18.9\n",
    "s3 = 24\n",
    "\n",
    "print(\n",
    "  round(area_triangulo(s1, s2, s3), 1)\n",
    ")"
   ]
  },
  {
   "cell_type": "code",
   "execution_count": null,
   "metadata": {},
   "outputs": [],
   "source": []
  }
 ],
 "metadata": {
  "kernelspec": {
   "display_name": "lolaPy",
   "language": "python",
   "name": "python3"
  },
  "language_info": {
   "codemirror_mode": {
    "name": "ipython",
    "version": 3
   },
   "file_extension": ".py",
   "mimetype": "text/x-python",
   "name": "python",
   "nbconvert_exporter": "python",
   "pygments_lexer": "ipython3",
   "version": "3.12.2"
  },
  "orig_nbformat": 4
 },
 "nbformat": 4,
 "nbformat_minor": 2
}

{
 "cells": [
  {
   "cell_type": "markdown",
   "metadata": {},
   "source": [
    "# Reto 4: Hora de llegada de vuelo\n"
   ]
  },
  {
   "cell_type": "markdown",
   "metadata": {},
   "source": [
    "Una agencia de viajes necesita informar a sus clientes la hora de llegada de sus vuelos. Se conoce la hora de partida del vuelo (en horas, minutos y segundos) y la duración del vuelo (en horas, minutos y segundos).\n",
    "\n",
    "Cree una función que retorne la hora de llegada del vuelo en una cadena con el formato “HH:mm:ss” donde HH es la hora, mm los minutos y ss los segundos de la hora de llegada del vuelo. \n",
    "\n",
    "La hora está dada en formato de 24 horas. Si alguno de los 3 números de la respuesta es menor a 10, sólo se necesita un dígito ('7' en lugar de '07').\n",
    "\n",
    "\n",
    "Su solución debe tener una función de acuerdo con la siguiente especificación:\n",
    "\n",
    "- Nombre de la función: calcular_horario_llegada\n",
    "\n",
    "Si lo requiere, puede agregar funciones adicionales.\n",
    "\n",
    "Descripción de parámetros:\n",
    "\n",
    "| Nombre   | Tipo   | Descripción |\n",
    "| --------- | ----------- | ----------- |\n",
    "| hora_salida| int| Hora de salida del vuelo (valor entre 0 y 23). |\n",
    "| minuto_salida| int| Minuto de salida del vuelo (valor entre 0 y 59). |\n",
    "| segundo_salida| int| Segundo de salida del vuelo (valor entre 0 y 59). |\n",
    "| duracion_horas| int| Número de horas que dura el vuelo. |\n",
    "| duracion_minutos| int| Número de minutos (adicionales al número de horas) que dura el vuelo. |\n",
    "| duracion_segundos| int| Número de segundos (adicionales al número de horas y minutos) que dura el vuelo. |\n",
    "\n",
    "Descripción del retorno:\n",
    "\n",
    "| Tipo | Descripción |\n",
    "| --------- | ----------- |\n",
    "| str | Cadena que indica la hora de llegada del vuelo a su destino, la cadena debe estar en el formato “HH:mm:ss”. |"
   ]
  },
  {
   "cell_type": "code",
   "execution_count": 1,
   "metadata": {},
   "outputs": [],
   "source": [
    "%reset -f"
   ]
  },
  {
   "cell_type": "markdown",
   "metadata": {},
   "source": [
    "La forma de resolver este problema es empezando a sumar segundos, luego minutos y luego horas, para llegar al tiempo final, sin embargo, hay que tener cuidado cuando se suman segundos y se pasa al siguiente minuto, así, cuando se sumen los minutos se tienen que sumar los minutos del paso anterior, similar con las horas.\n",
    "\n",
    "Sean las variables:\n",
    "  - x: hora de salida del vuelo \n",
    "  - y: minutos de salida del vuelo\n",
    "  - z: segundos de salida del vuelo\n",
    "  - a: duración del vuelo en horas\n",
    "  - b: duración del vuelo en minutos\n",
    "  - c: duración del vuelo en segundos\n",
    "\n",
    "la suma se ha de ejecutar de la forma:\n",
    "\n",
    "  - ss = x + a\n",
    "  - mm = y + b + minutos adicionales de ss\n",
    "  - hh = z + c + horas adicionales de mm"
   ]
  },
  {
   "cell_type": "code",
   "execution_count": 25,
   "metadata": {},
   "outputs": [],
   "source": [
    "def calcular_horario_salida(hora_salida: int, minuto_salida: int, segundo_salida: int) -> str:\n",
    "  \n",
    "  ss = segundo_salida\n",
    "  mm = minuto_salida\n",
    "  HH = hora_salida\n",
    "\n",
    "  # return str(HH) + ':' + str(mm) + ':' + str(ss)\n",
    "  return 'La hora de salida del vuelo es a las {}:{}:{} formato “HH:mm:ss”.'.format(HH,mm,ss)"
   ]
  },
  {
   "cell_type": "code",
   "execution_count": 26,
   "metadata": {},
   "outputs": [],
   "source": [
    "def calcular_tiempo_vuelo(duracion_horas: int, duracion_minutos: int, duracion_segundos: int) -> str:\n",
    "  \n",
    "  ss = duracion_segundos\n",
    "  mm = duracion_minutos \n",
    "  HH = duracion_horas\n",
    "  \n",
    "  return 'la duración del vuelo es de {} horas con {} minutos y {} segundos.'.format(HH, mm, ss)"
   ]
  },
  {
   "cell_type": "code",
   "execution_count": 27,
   "metadata": {},
   "outputs": [],
   "source": [
    "def calcular_horario_llegada(hora_salida: int, minuto_salida: int, segundo_salida: int, duracion_horas: int, duracion_minutos: int, duracion_segundos: int) -> str:\n",
    "\n",
    "  ss = (segundo_salida + duracion_segundos) % 60\n",
    "  \n",
    "  minutos_totales = (minuto_salida + duracion_minutos) + ((segundo_salida + duracion_segundos) // 60)\n",
    "  mm = minutos_totales % 60\n",
    "  \n",
    "  horas_totales = (hora_salida + duracion_horas) + (minutos_totales // 60)\n",
    "  HH = horas_totales % 24\n",
    "  \n",
    "  # =============================================================================\n",
    "  #     return HH, mm, ss\n",
    "  # =============================================================================\n",
    "\n",
    "  # return str(HH) + ':' + str(mm) + ':' + str(ss)\n",
    "  return 'La hora de llegada del vuelo es a las {}:{}:{} formato “HH:mm:ss”.'.format(HH,mm,ss)\n"
   ]
  },
  {
   "cell_type": "code",
   "execution_count": 28,
   "metadata": {},
   "outputs": [
    {
     "name": "stdout",
     "output_type": "stream",
     "text": [
      "\n",
      "\t\t La hora de salida del vuelo es a las 4:45:6 formato “HH:mm:ss”. \n",
      "\t\t la duración del vuelo es de 15 horas con 4 minutos y 7 segundos. \n",
      "\t\t La hora de llegada del vuelo es a las 19:49:13 formato “HH:mm:ss”.\n"
     ]
    }
   ],
   "source": [
    "x = int(input('\\n\\t\\tIngrese la hora de salida de el vuelo (horario 24 horas): '))\n",
    "y = int(input('\\n\\t\\tIngrese el minuto de salida de el vuelo: '))\n",
    "z = int(input('\\n\\t\\tIngrese el segundo de salida de el vuelo: '))\n",
    "a = int(input('\\n\\t\\tIngrese la duración de horas de el vuelo (horario 24 horas): '))\n",
    "b = int(input('\\n\\t\\tIngrese los minutos adicionales de la duración de el vuelo: '))\n",
    "c = int(input('\\n\\t\\tIngrese los segundos adicionales de la duración de el vuelo: '))\n",
    "\n",
    "print(\n",
    "  '\\n\\t\\t', calcular_horario_salida(x, y, z)\n",
    "  , '\\n\\t\\t', calcular_tiempo_vuelo(a, b, c)\n",
    "  , '\\n\\t\\t', calcular_horario_llegada(x, y, z, a, b, c)\n",
    "  )"
   ]
  },
  {
   "cell_type": "code",
   "execution_count": null,
   "metadata": {},
   "outputs": [],
   "source": []
  }
 ],
 "metadata": {
  "kernelspec": {
   "display_name": "main",
   "language": "python",
   "name": "python3"
  },
  "language_info": {
   "codemirror_mode": {
    "name": "ipython",
    "version": 3
   },
   "file_extension": ".py",
   "mimetype": "text/x-python",
   "name": "python",
   "nbconvert_exporter": "python",
   "pygments_lexer": "ipython3",
   "version": "3.12.2"
  }
 },
 "nbformat": 4,
 "nbformat_minor": 2
}

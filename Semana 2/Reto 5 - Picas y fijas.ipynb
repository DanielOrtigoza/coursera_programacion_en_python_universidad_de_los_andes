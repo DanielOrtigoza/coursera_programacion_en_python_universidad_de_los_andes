{
 "cells": [
  {
   "cell_type": "markdown",
   "metadata": {},
   "source": [
    "# Reto 5: Picas y fijas\n"
   ]
  },
  {
   "cell_type": "markdown",
   "metadata": {},
   "source": [
    "El juego de las Picas y Fijas es un juego matemático muy sencillo, consiste en adivinar un número de 4 cifras y de todos los dígitos diferentes. Para esto, el jugador que intenta adivinar deberá decir el número que cree está escondiendo el otro, y este deberá responder el número de picas y fijas que tiene ahora el jugador.\n",
    "\n",
    "Una pica es un dígito que se encuentra en el número a adivinar, pero no está en el lugar correcto; y una fija es un dígito correctamente colocado.\n",
    "\n",
    "Por ejemplo, si el número secreto es 1234 y el otro jugador dice 1325, tendrá dos picas y una fija.\n",
    "\n",
    "Debes crear una función que devuelva un diccionario con las llaves \"PICAS\" y \"FIJAS\" que represente el resultado de la jugada si un jugador trata de adivinar el numero_secreto con el número intento.\n",
    "\n",
    "Tu solución debe tener una función de acuerdo con la siguiente especificación:\n",
    "\n",
    "  - Nombre de la función: picas_y_fijas\n",
    "\n",
    "Si lo requieres, puedes agregar funciones adicionales.\n",
    "\n",
    "Descripción de parámetros:\n",
    "\n",
    "| Nombre   | Tipo   | Descripción |\n",
    "| --------- | ----------- | ----------- |\n",
    "| numero_secreto | int | Número por adivinar. |\n",
    "| intento | int | Número con el cual se intenta adivinar. |\n",
    "\n",
    "Descripción del retorno:\n",
    "\n",
    "| Tipo | Descripción |\n",
    "| --------- | ----------- |\n",
    "| dict | Diccionario con las llaves \"PICAS\" y \"FIJAS\" que describen el resultado del intento. |"
   ]
  },
  {
   "cell_type": "code",
   "execution_count": null,
   "metadata": {},
   "outputs": [],
   "source": []
  }
 ],
 "metadata": {
  "language_info": {
   "name": "python"
  }
 },
 "nbformat": 4,
 "nbformat_minor": 2
}

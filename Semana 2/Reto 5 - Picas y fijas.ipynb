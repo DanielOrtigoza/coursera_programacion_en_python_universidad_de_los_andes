{
 "cells": [
  {
   "cell_type": "markdown",
   "metadata": {},
   "source": [
    "# Reto 5: Picas y fijas\n"
   ]
  },
  {
   "cell_type": "markdown",
   "metadata": {},
   "source": [
    "El juego de las Picas y Fijas es un juego matemático muy sencillo, consiste en adivinar un número de 4 cifras y de todos los dígitos diferentes. Para esto, el jugador que intenta adivinar deberá decir el número que cree está escondiendo el otro, y este deberá responder el número de picas y fijas que tiene ahora el jugador.\n",
    "\n",
    "Una pica es un dígito que se encuentra en el número a adivinar, pero no está en el lugar correcto; y una fija es un dígito correctamente colocado.\n",
    "\n",
    "Por ejemplo, si el número secreto es 1234 y el otro jugador dice 1325, tendrá dos picas y una fija.\n",
    "\n",
    "Debes crear una función que devuelva un diccionario con las llaves \"PICAS\" y \"FIJAS\" que represente el resultado de la jugada si un jugador trata de adivinar el numero_secreto con el número intento.\n",
    "\n",
    "Tu solución debe tener una función de acuerdo con la siguiente especificación:\n",
    "\n",
    "  - Nombre de la función: picas_y_fijas\n",
    "\n",
    "Si lo requieres, puedes agregar funciones adicionales.\n",
    "\n",
    "Descripción de parámetros:\n",
    "\n",
    "| Nombre   | Tipo   | Descripción |\n",
    "| --------- | ----------- | ----------- |\n",
    "| numero_secreto | int | Número por adivinar. |\n",
    "| intento | int | Número con el cual se intenta adivinar. |\n",
    "\n",
    "Descripción del retorno:\n",
    "\n",
    "| Tipo | Descripción |\n",
    "| --------- | ----------- |\n",
    "| dict | Diccionario con las llaves \"PICAS\" y \"FIJAS\" que describen el resultado del intento. |"
   ]
  },
  {
   "cell_type": "code",
   "execution_count": 2,
   "metadata": {},
   "outputs": [],
   "source": [
    "%reset -f"
   ]
  },
  {
   "cell_type": "markdown",
   "metadata": {},
   "source": [
    "para resolver este problema de picas y fijas, primero convirtamos cada número en texto para así ir comparando caracter por caracter la posición y si es igual o no, una fija será entonces que el caracter y la posición coincida, mientras que una pica que coincida el caracter pero no la posición, así con un if se soluciona esto, primero evalua si el caracter y la posición es la mismo y de lo contrario solo evalua si el caracter es el mismo pero no la posición"
   ]
  },
  {
   "cell_type": "code",
   "execution_count": 13,
   "metadata": {},
   "outputs": [],
   "source": [
    "def picas_y_fijas(numero_secreto: int, intento: int) -> dict:\n",
    "  \n",
    "  numero_secreto = str(numero_secreto)\n",
    "  intento = str(intento)\n",
    "\n",
    "  dict_respuesta = {}\n",
    "  conteo_picas = 0\n",
    "  conteo_fijas = 0\n",
    "\n",
    "  for n, i in enumerate(numero_secreto):\n",
    "    for m, j in enumerate(intento):\n",
    "      if j == i and n == m:\n",
    "        conteo_fijas = conteo_fijas + 1\n",
    "      elif j == i and n != m:\n",
    "        conteo_picas = conteo_picas + 1\n",
    "\n",
    "  dict_respuesta['PICAS'] = conteo_picas\n",
    "  dict_respuesta['FIJAS'] = conteo_fijas\n",
    "\n",
    "  return dict_respuesta"
   ]
  },
  {
   "cell_type": "code",
   "execution_count": 14,
   "metadata": {},
   "outputs": [
    {
     "data": {
      "text/plain": [
       "{'PICAS': 3, 'FIJAS': 0}"
      ]
     },
     "execution_count": 14,
     "metadata": {},
     "output_type": "execute_result"
    }
   ],
   "source": [
    "picas_y_fijas(1234, 2345)"
   ]
  }
 ],
 "metadata": {
  "kernelspec": {
   "display_name": "main",
   "language": "python",
   "name": "python3"
  },
  "language_info": {
   "codemirror_mode": {
    "name": "ipython",
    "version": 3
   },
   "file_extension": ".py",
   "mimetype": "text/x-python",
   "name": "python",
   "nbconvert_exporter": "python",
   "pygments_lexer": "ipython3",
   "version": "3.9.18"
  }
 },
 "nbformat": 4,
 "nbformat_minor": 2
}

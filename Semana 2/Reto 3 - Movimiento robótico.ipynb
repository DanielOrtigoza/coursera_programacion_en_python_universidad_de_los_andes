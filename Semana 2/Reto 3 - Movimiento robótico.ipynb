{
 "cells": [
  {
   "cell_type": "markdown",
   "metadata": {},
   "source": [
    "# Reto 3: Movimiento robótico\n"
   ]
  },
  {
   "cell_type": "markdown",
   "metadata": {},
   "source": [
    "Usted quiere anticipar el movimiento del nuevo robot que recibió como regalo de cumpleaños. El robot tiene una brújula interna que le permite saber hacia qué punto cardinal está mirando actualmente: Norte, Sur, Este, u Oeste. Además, el robot tiene un control remoto que permite girarlo hacia la izquierda o la derecha, y también pedirle que dé media vuelta. Usted debe escribir una función que, dados 3 comandos que se envíen usando el control remoto, calcule la orientación final del robot.\n",
    "\n",
    "Nota: La representación de los puntos cardinales que llegan por parámetro es la siguiente:\n",
    "\n",
    "  - \"N\", para Norte.\n",
    "  - \"S\", para Sur.\n",
    "  - \"E\", para Este.\n",
    "  - \"W\", para Oeste.\n",
    "\n",
    "Las representaciones de los comandos del control remoto que llegan por parámetro son las siguientes:\n",
    "\n",
    "  - \"L\", para girar a la izquierda.\n",
    "  - \"R\", para girar a la derecha.\n",
    "  - \"H\", para dar media vuelta.\n",
    "  - \".\", para mantener la orientación actual.   \n",
    "\n",
    "\n",
    "Su solución debe tener una función de acuerdo con la siguiente especificación:\n",
    "\n",
    "  - Nombre de la función: movimiento_robot\n",
    "\n",
    "Si lo requiere, puede agregar funciones adicionales.\n",
    "\n",
    "Descripción de parámetros:\n",
    "\n",
    "| Nombre   | Tipo   | Descripción |\n",
    "| --------- | ----------- | ----------- |\n",
    "| orientacion_actual | str | La orientación actual del robot. |\n",
    "| giro_1 | str | La acción por ejecutar a partir de la orientación inicial del robot. Debe ser un valor de los siguientes: {\"L\",\"H\",\"R\",\".\"}. |\n",
    "| giro_2 | str | La acción por ejecutar a partir de la orientación posterior al giro_1 del robot. Debe ser un valor de los siguientes: {\"L\",\"H\",\"R\",\".\"}. |  \n",
    "| giro_3 | str | La acción por ejecutar a partir de la orientación posterior al giro_2 del robot. Debe ser un valor de los siguientes: {\"L\",\"H\",\"R\",\".\"}. |  \n",
    "\n",
    "Descripción del retorno:\n",
    "\n",
    "| Tipo | Descripción |\n",
    "| --------- | ----------- |\n",
    "| str | La orientación final del robot. Debe ser uno de los siguientes valores: {\"W\",\"N\",\"S\",\"E\"}. |"
   ]
  },
  {
   "cell_type": "code",
   "execution_count": 1,
   "metadata": {},
   "outputs": [],
   "source": [
    "%reset -f"
   ]
  },
  {
   "cell_type": "code",
   "execution_count": 13,
   "metadata": {},
   "outputs": [],
   "source": [
    "import itertools as it"
   ]
  },
  {
   "cell_type": "code",
   "execution_count": 24,
   "metadata": {},
   "outputs": [],
   "source": [
    "permutaciones = it.permutations(['L', 'R', 'H', '.'])\n",
    "permutaciones = list(permutaciones)"
   ]
  },
  {
   "cell_type": "code",
   "execution_count": 25,
   "metadata": {},
   "outputs": [
    {
     "name": "stdout",
     "output_type": "stream",
     "text": [
      "('L', 'R', 'H', '.')\n",
      "('L', 'R', '.', 'H')\n",
      "('L', 'H', 'R', '.')\n",
      "('L', 'H', '.', 'R')\n",
      "('L', '.', 'R', 'H')\n",
      "('L', '.', 'H', 'R')\n",
      "('R', 'L', 'H', '.')\n",
      "('R', 'L', '.', 'H')\n",
      "('R', 'H', 'L', '.')\n",
      "('R', 'H', '.', 'L')\n",
      "('R', '.', 'L', 'H')\n",
      "('R', '.', 'H', 'L')\n",
      "('H', 'L', 'R', '.')\n",
      "('H', 'L', '.', 'R')\n",
      "('H', 'R', 'L', '.')\n",
      "('H', 'R', '.', 'L')\n",
      "('H', '.', 'L', 'R')\n",
      "('H', '.', 'R', 'L')\n",
      "('.', 'L', 'R', 'H')\n",
      "('.', 'L', 'H', 'R')\n",
      "('.', 'R', 'L', 'H')\n",
      "('.', 'R', 'H', 'L')\n",
      "('.', 'H', 'L', 'R')\n",
      "('.', 'H', 'R', 'L')\n"
     ]
    }
   ],
   "source": [
    "for i in list(permutaciones):\n",
    "  print(i)"
   ]
  },
  {
   "cell_type": "markdown",
   "metadata": {},
   "source": [
    "para resolver este problema, primero hagamos una funcion que calcule la posición final para cada posición inicial de acuerdo a un giro, los casos son\n",
    "\n",
    "posición inicial + giro = posición final\n",
    "  - posición inicial norte\n",
    "    - N + L = W\n",
    "    - N + R = E\n",
    "    - N + H = S\n",
    "    - N + . = N\n",
    "\n",
    "  - posición inicial sur\n",
    "    - S + L = E\n",
    "    - S + R = W\n",
    "    - S + H = N\n",
    "    - S + . = S\n",
    "\n",
    "  - posición inicial oeste\n",
    "    - W + L = S\n",
    "    - W + R = N\n",
    "    - W + H = E\n",
    "    - W + . = W\n",
    "\n",
    "  - posición inicial este\n",
    "    - E + L = N\n",
    "    - E + R = S\n",
    "    - E + H = W\n",
    "    - E + . = E\n"
   ]
  },
  {
   "cell_type": "code",
   "execution_count": 30,
   "metadata": {},
   "outputs": [],
   "source": [
    "def orientacion_final(orientacion_actual: str, giro: str) -> str:\n",
    "  if orientacion_actual == 'N':\n",
    "    if giro == 'L':\n",
    "      orientacion_final = 'W'\n",
    "    if giro == 'R':\n",
    "      orientacion_final = 'E'\n",
    "    if giro == 'H':\n",
    "      orientacion_final = 'S'\n",
    "    if giro == '.':\n",
    "      orientacion_final = 'N'\n",
    "\n",
    "  if orientacion_actual == 'S':\n",
    "    if giro == 'L':\n",
    "      orientacion_final = 'E'\n",
    "    if giro == 'R':\n",
    "      orientacion_final = 'W'\n",
    "    if giro == 'H':\n",
    "      orientacion_final = 'N'\n",
    "    if giro == '.':\n",
    "      orientacion_final = 'S'\n",
    "\n",
    "  if orientacion_actual == 'W':\n",
    "    if giro == 'L':\n",
    "      orientacion_final = 'S'\n",
    "    if giro == 'R':\n",
    "      orientacion_final = 'N'\n",
    "    if giro == 'H':\n",
    "      orientacion_final = 'E'\n",
    "    if giro == '.':\n",
    "      orientacion_final = 'W'\n",
    "\n",
    "  if orientacion_actual == 'E':\n",
    "    if giro == 'L':\n",
    "      orientacion_final = 'N'\n",
    "    if giro == 'R':\n",
    "      orientacion_final = 'S'\n",
    "    if giro == 'H':\n",
    "      orientacion_final = 'W'\n",
    "    if giro == '.':\n",
    "      orientacion_final = 'E'\n",
    "\n",
    "  return orientacion_final"
   ]
  },
  {
   "cell_type": "code",
   "execution_count": 31,
   "metadata": {},
   "outputs": [],
   "source": [
    "def movimiento_robot(orientacion_actual: str, giro_1: str, giro_2: str, giro_3: str) -> str:\n",
    "\n",
    "  orientacion_final_giro_1 = orientacion_final(orientacion_actual, giro_1)\n",
    "  orientacion_final_giro_2 = orientacion_final(orientacion_final_giro_1, giro_2)\n",
    "  orientacion_final_giro_3 = orientacion_final(orientacion_final_giro_2, giro_3)\n",
    "\n",
    "  return orientacion_final_giro_3"
   ]
  },
  {
   "cell_type": "code",
   "execution_count": 32,
   "metadata": {},
   "outputs": [
    {
     "name": "stdout",
     "output_type": "stream",
     "text": [
      "E\n"
     ]
    }
   ],
   "source": [
    "orientacion_actual = 'N' \n",
    "giro_1 = 'H'\n",
    "giro_2 = 'H'\n",
    "giro_3 = 'R'\n",
    "\n",
    "print(movimiento_robot(orientacion_actual, giro_1, giro_2, giro_3))"
   ]
  },
  {
   "cell_type": "code",
   "execution_count": null,
   "metadata": {},
   "outputs": [],
   "source": []
  }
 ],
 "metadata": {
  "kernelspec": {
   "display_name": "main",
   "language": "python",
   "name": "python3"
  },
  "language_info": {
   "codemirror_mode": {
    "name": "ipython",
    "version": 3
   },
   "file_extension": ".py",
   "mimetype": "text/x-python",
   "name": "python",
   "nbconvert_exporter": "python",
   "pygments_lexer": "ipython3",
   "version": "3.12.2"
  }
 },
 "nbformat": 4,
 "nbformat_minor": 2
}

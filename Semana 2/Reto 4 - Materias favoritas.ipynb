{
 "cells": [
  {
   "cell_type": "markdown",
   "metadata": {},
   "source": [
    "# Reto 4: Materias favoritas"
   ]
  },
  {
   "cell_type": "markdown",
   "metadata": {},
   "source": [
    "Pedro es un estudiante inteligente pero desinteresado por algunas de sus materias. A Pedro le gustan las clases en las que aprende programación, matemática, filosofía y literatura. Por lo anterior, cualquier materia que lleve en su título alguna de estas palabras, será de su agrado.\n",
    "\n",
    "Pedro está planeando su horario, pero ha puesto a su asistente digital a que le dé posibles conjuntos de tres materias para inscribir en su semestre. Él quiere saber, dados los títulos de las tres materias, cuántas de estas son de su agrado. Se sabe que los nombres de las materias irán sin acentos y en minúsculas cuando sean recibidos por parámetro en la función.\n",
    "\n",
    "\n",
    "Su solución debe tener una función de acuerdo con la siguiente especificación:\n",
    "\n",
    "  - Nombre de la función: conteo_de_materias\n",
    "\n",
    "Si lo requiere, puede agregar funciones adicionales.\n",
    "\n",
    "Descripción de parámetros:\n",
    "\n",
    "| Nombre   | Tipo   | Descripción |\n",
    "| --------- | ----------- | ----------- |\n",
    "| nombre_materia_1 | str | El nombre de la primera materia. |\n",
    "| nombre_materia_2 | str | El nombre de la segunda materia. |\n",
    "| nombre_materia_3 | str | El nombre de la tercera materia. |\n",
    "\n",
    "Descripción del retorno:\n",
    "\n",
    "| Tipo | Descripción |\n",
    "| --------- | ----------- |\n",
    "| int | Retorna el número de materias que cumplen los criterios para gustarle a Pedro. |\n"
   ]
  },
  {
   "cell_type": "code",
   "execution_count": null,
   "metadata": {},
   "outputs": [],
   "source": []
  }
 ],
 "metadata": {
  "language_info": {
   "name": "python"
  }
 },
 "nbformat": 4,
 "nbformat_minor": 2
}

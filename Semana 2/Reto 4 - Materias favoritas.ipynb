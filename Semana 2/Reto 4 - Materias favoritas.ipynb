{
 "cells": [
  {
   "cell_type": "markdown",
   "metadata": {},
   "source": [
    "# Reto 4: Materias favoritas"
   ]
  },
  {
   "cell_type": "markdown",
   "metadata": {},
   "source": [
    "Pedro es un estudiante inteligente pero desinteresado por algunas de sus materias. A Pedro le gustan las clases en las que aprende programación, matemática, filosofía y literatura. Por lo anterior, cualquier materia que lleve en su título alguna de estas palabras, será de su agrado.\n",
    "\n",
    "Pedro está planeando su horario, pero ha puesto a su asistente digital a que le dé posibles conjuntos de tres materias para inscribir en su semestre. Él quiere saber, dados los títulos de las tres materias, cuántas de estas son de su agrado. Se sabe que los nombres de las materias irán sin acentos y en minúsculas cuando sean recibidos por parámetro en la función.\n",
    "\n",
    "\n",
    "Su solución debe tener una función de acuerdo con la siguiente especificación:\n",
    "\n",
    "  - Nombre de la función: conteo_de_materias\n",
    "\n",
    "Si lo requiere, puede agregar funciones adicionales.\n",
    "\n",
    "Descripción de parámetros:\n",
    "\n",
    "| Nombre   | Tipo   | Descripción |\n",
    "| --------- | ----------- | ----------- |\n",
    "| nombre_materia_1 | str | El nombre de la primera materia. |\n",
    "| nombre_materia_2 | str | El nombre de la segunda materia. |\n",
    "| nombre_materia_3 | str | El nombre de la tercera materia. |\n",
    "\n",
    "Descripción del retorno:\n",
    "\n",
    "| Tipo | Descripción |\n",
    "| --------- | ----------- |\n",
    "| int | Retorna el número de materias que cumplen los criterios para gustarle a Pedro. |\n"
   ]
  },
  {
   "cell_type": "code",
   "execution_count": 37,
   "metadata": {},
   "outputs": [],
   "source": [
    "%reset -f"
   ]
  },
  {
   "cell_type": "markdown",
   "metadata": {},
   "source": [
    "Para resolver este problema, primero creemos una lista con todas la materias ingresadas así como para las palabras de coincidencia, luego la solución está en hacer dos ciclos for en la cual cada palabra de coincidencia se evalue con cada materia, para ver si dicha palabra de coincidencia está contenida en la materia de interés."
   ]
  },
  {
   "cell_type": "code",
   "execution_count": 52,
   "metadata": {},
   "outputs": [],
   "source": [
    "def conteo_de_materias(nombre_materia_1: str, nombre_materia_2: str, nombre_materia_3: str) -> int:\n",
    "  nombre_materia_1 = nombre_materia_1.lower()\n",
    "  nombre_materia_2 = nombre_materia_2.lower()\n",
    "  nombre_materia_3 = nombre_materia_3.lower()\n",
    "\n",
    "  materias = [nombre_materia_1, nombre_materia_2, nombre_materia_3]\n",
    "\n",
    "  materia_coincidencia_1 = 'matematica'\n",
    "  materia_coincidencia_2 = 'filosofia'\n",
    "  materia_coincidencia_3 = 'literatura'\n",
    "  materia_coincidencia_4 = 'programacion'\n",
    "\n",
    "  materias_coincidencia = [materia_coincidencia_1, materia_coincidencia_2, materia_coincidencia_3, materia_coincidencia_4]\n",
    "\n",
    "  materias_intetres = 0\n",
    "\n",
    "  for i in materias_coincidencia:\n",
    "    for j in materias:\n",
    "      if i in j:\n",
    "        materias_intetres = materias_intetres + 1\n",
    "\n",
    "  return materias_intetres"
   ]
  },
  {
   "cell_type": "code",
   "execution_count": 53,
   "metadata": {},
   "outputs": [
    {
     "data": {
      "text/plain": [
       "3"
      ]
     },
     "execution_count": 53,
     "metadata": {},
     "output_type": "execute_result"
    }
   ],
   "source": [
    "nombre_materia_1 = 'introduccion a la programacion'\n",
    "nombre_materia_2 = 'matematica estructural'\n",
    "nombre_materia_3 = 'algoritmica y programacion orientada por objetos I'\n",
    "\n",
    "conteo_de_materias(nombre_materia_1, nombre_materia_2, nombre_materia_3)\n"
   ]
  }
 ],
 "metadata": {
  "kernelspec": {
   "display_name": "lolaPy",
   "language": "python",
   "name": "python3"
  },
  "language_info": {
   "codemirror_mode": {
    "name": "ipython",
    "version": 3
   },
   "file_extension": ".py",
   "mimetype": "text/x-python",
   "name": "python",
   "nbconvert_exporter": "python",
   "pygments_lexer": "ipython3",
   "version": "3.9.18"
  }
 },
 "nbformat": 4,
 "nbformat_minor": 2
}

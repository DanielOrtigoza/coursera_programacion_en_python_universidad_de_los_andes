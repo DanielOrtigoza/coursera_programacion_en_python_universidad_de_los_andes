{
 "cells": [
  {
   "cell_type": "markdown",
   "metadata": {},
   "source": [
    "# Reto 1: Modularidad"
   ]
  },
  {
   "cell_type": "markdown",
   "metadata": {},
   "source": [
    "Escriba una función que reciba dos números enteros n y d y determine si n es divisible por 2d, si n es divisible por d, o si n no es divisible ni por d ni por 2d.\n",
    "\n",
    "Recuerde que ningún número es divisible por 0.\n",
    "\n",
    "\n",
    "Su solución debe tener una función de acuerdo con la siguiente especificación:\n",
    "\n",
    "- Nombre de la función: es_divisible\n",
    "\n",
    "Si lo requiere, puede agregar funciones adicionales.\n",
    "\n",
    "Descripción de parámetros:\n",
    "\n",
    "| Nombre   | Tipo   | Descripción |\n",
    "| --------- | ----------- | ----------- |\n",
    "| n | int | Un número entero. |\n",
    "| d | int | Un número entero. |\n",
    "\n",
    "Descripción del retorno:\n",
    "\n",
    "| Tipo | Descripción |\n",
    "| --------- | ----------- |\n",
    "| int | Si el número n es divisible por 2d, retorna 2. Si el número n es divisible entre d pero no entre 2d, retorna 1. De lo contrario, retorna 0. |\n"
   ]
  },
  {
   "cell_type": "code",
   "execution_count": 1,
   "metadata": {},
   "outputs": [],
   "source": [
    "%reset -f"
   ]
  },
  {
   "cell_type": "code",
   "execution_count": 2,
   "metadata": {},
   "outputs": [],
   "source": [
    "def es_divisible(n: int, d: int) -> str:\n",
    "  \n",
    "  if d == 0:\n",
    "    respuesta = \"\\n\\t\\tNingún numero es divisible por 0.\"\n",
    "  elif n % (2 * d) == 0:\n",
    "    respuesta = 2\n",
    "  elif n % d == 0:\n",
    "    respuesta = 1\n",
    "  else:\n",
    "    respuesta = 0\n",
    "\n",
    "  return respuesta"
   ]
  },
  {
   "cell_type": "code",
   "execution_count": 5,
   "metadata": {},
   "outputs": [
    {
     "name": "stdout",
     "output_type": "stream",
     "text": [
      "0\n"
     ]
    }
   ],
   "source": [
    "n = 1\n",
    "d = 4\n",
    "\n",
    "print(es_divisible(n, d))"
   ]
  },
  {
   "cell_type": "code",
   "execution_count": null,
   "metadata": {},
   "outputs": [],
   "source": []
  }
 ],
 "metadata": {
  "kernelspec": {
   "display_name": "main",
   "language": "python",
   "name": "python3"
  },
  "language_info": {
   "codemirror_mode": {
    "name": "ipython",
    "version": 3
   },
   "file_extension": ".py",
   "mimetype": "text/x-python",
   "name": "python",
   "nbconvert_exporter": "python",
   "pygments_lexer": "ipython3",
   "version": "3.12.2"
  }
 },
 "nbformat": 4,
 "nbformat_minor": 2
}

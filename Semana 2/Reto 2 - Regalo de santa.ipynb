{
 "cells": [
  {
   "cell_type": "markdown",
   "metadata": {},
   "source": [
    "# Reto 2: Regalo de santa"
   ]
  },
  {
   "cell_type": "markdown",
   "metadata": {},
   "source": [
    "En el taller de regalos de Santa Claus, el CTE (Chief Technology Elf) ha decidido implementar un nuevo sistema de clasificación de regalos, para facilitar su organización. Cada paquete tiene ahora un identificador numérico único. El identificador es un número entero entre 100 y 999 y sirve para clasificar los regalos de la siguiente manera.\n",
    "\n",
    "  - Si el número es palíndromo e impar, el regalo corresponde a una niña.\n",
    "\n",
    "  - Si el número es palíndromo y par, el regalo corresponde a un niño.\n",
    "\n",
    "  - Si el número es par pero no es palíndromo, el regalo corresponde a un hombre.\n",
    "\n",
    "  - Si el número es impar pero no es palíndromo, el regalo corresponde a una mujer.\n",
    "\n",
    "Escriba una función que ayude al CTE a calcular, dado un identificador único de regalo, a qué tipo de persona corresponde dicho regalo.\n",
    "\n",
    "\n",
    "Su solución debe tener una función de acuerdo con la siguiente especificación:\n",
    "\n",
    "Nombre de la función: clasificar_regalo\n",
    "\n",
    "Si lo requiere, puede agregar funciones adicionales.\n",
    "\n",
    "Descripción de parámetros:\n",
    "\n",
    "| Nombre   | Tipo   | Descripción |\n",
    "| --------- | ----------- | ----------- |\n",
    "| id | int | El identificador del regalo cuyo tipo de persona se quiere calcular.\n",
    "\n",
    "Descripción del retorno:\n",
    "\n",
    "| Tipo | Descripción |\n",
    "| --------- | ----------- |\n",
    "| str | Si el número es palíndromo e impar, el regalo corresponde a una niña, y se retorna \"girl\". Si el número es palíndromo y par, el regalo corresponde a un niño, y se retorna \"boy\". Si el número es par, pero no palíndromo, el regalo corresponde a un hombre, y se retorna \"man\". Si el número es impar, pero no palíndromo, el regalo corresponde a una mujer, y se retorna \"woman\" |"
   ]
  },
  {
   "cell_type": "code",
   "execution_count": 1,
   "metadata": {},
   "outputs": [],
   "source": [
    "%reset -f"
   ]
  },
  {
   "cell_type": "markdown",
   "metadata": {},
   "source": [
    "Un número (o palabra) palíndromo es aquel que se lee exactamente igual de izquierda a derecha que de derecha a izquierda.\n",
    "\n",
    "De este modo, para poder resolver este problema podemos usar la slicing y en especial de la forma a[::-1]"
   ]
  },
  {
   "cell_type": "code",
   "execution_count": 11,
   "metadata": {},
   "outputs": [
    {
     "name": "stdout",
     "output_type": "stream",
     "text": [
      " lola \n",
      " alol\n"
     ]
    }
   ],
   "source": [
    "texto = 'lola'\n",
    "\n",
    "print(\n",
    "    '', texto\n",
    "  , '\\n', texto[::-1]\n",
    ")"
   ]
  },
  {
   "cell_type": "markdown",
   "metadata": {},
   "source": [
    "para el tema de los números pares e impares, se puede usar el módulo con respecto a 2 a % 2, si el módulo entre a y 2 es cero, es par, en lo contrario es impar"
   ]
  },
  {
   "cell_type": "code",
   "execution_count": 23,
   "metadata": {},
   "outputs": [
    {
     "data": {
      "text/plain": [
       "1"
      ]
     },
     "execution_count": 23,
     "metadata": {},
     "output_type": "execute_result"
    }
   ],
   "source": [
    "103 % 2"
   ]
  },
  {
   "cell_type": "code",
   "execution_count": 24,
   "metadata": {},
   "outputs": [],
   "source": [
    "def clasificar_regalo(id: int)-> str:\n",
    "    \n",
    "  if id < 100 or id > 999:\n",
    "    mensaje = \"El numero ingresado no es valido.\"\n",
    "  elif str(id) == str(id)[::-1] and id % 2 != 0:\n",
    "    mensaje = \"una niña.\"\n",
    "  elif str(id) == str(id)[::-1] and id % 2 == 0:\n",
    "    mensaje = \"un niño.\"\n",
    "  elif str(id) != str(id)[::-1] and id % 2 == 0:\n",
    "    mensaje = \"un hombre.\"\n",
    "  elif str(id) != str(id)[::-1] and id % 2 != 0:\n",
    "    mensaje = \"una mujer.\"\n",
    "\n",
    "  return mensaje"
   ]
  },
  {
   "cell_type": "code",
   "execution_count": 25,
   "metadata": {},
   "outputs": [
    {
     "name": "stdout",
     "output_type": "stream",
     "text": [
      "El regalo corresponde a  un niño.\n"
     ]
    }
   ],
   "source": [
    "print(\"El regalo corresponde a \", clasificar_regalo(242))"
   ]
  },
  {
   "cell_type": "code",
   "execution_count": null,
   "metadata": {},
   "outputs": [],
   "source": []
  }
 ],
 "metadata": {
  "kernelspec": {
   "display_name": "main",
   "language": "python",
   "name": "python3"
  },
  "language_info": {
   "codemirror_mode": {
    "name": "ipython",
    "version": 3
   },
   "file_extension": ".py",
   "mimetype": "text/x-python",
   "name": "python",
   "nbconvert_exporter": "python",
   "pygments_lexer": "ipython3",
   "version": "3.12.2"
  }
 },
 "nbformat": 4,
 "nbformat_minor": 2
}

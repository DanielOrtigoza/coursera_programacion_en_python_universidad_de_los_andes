{
 "cells": [
  {
   "cell_type": "markdown",
   "metadata": {},
   "source": [
    "# Reto 6: El mejor estudiante del salón"
   ]
  },
  {
   "cell_type": "markdown",
   "metadata": {},
   "source": [
    "Los estudiantes de un cierto colegio tienen que ver 5 cursos: \n",
    "\n",
    "Matemáticas, Español, Ciencias, Literatura y Arte. Usted debe construir una función que reciba la información de 5 estudiantes y calcule quién es el mejor estudiante (el que tenga el mejor promedio). La información de cada estudiante se representará usando un diccionario con 6 llaves: \"nombre\", que tendrá asociado el nombre del estudiante; \"matematicas\", que tendrá asociada la nota del estudiante en el curso Matemáticas; \"español\", que tendrá asociada la nota del estudiante en el curso Español; \"ciencias\", que tendrá asociada la nota del estudiante en el curso Ciencias; \"literatura\", que tendrá asociada la nota del estudiante en el curso Literatura; y \"arte\", que tendrá asociada la nota del estudiante en el curso Arte. Las notas son números decimales entre 0 y 5.\n",
    "\n",
    "Su función debe retornar el nombre del estudiante que tenga el mejor promedio. Si hay varios con el mejor promedio, debe aparecer el estudiante que tenga el nombre alfabéticamente menor (independientemente de mayúsculas o minúsculas).\n",
    "\n",
    "\n",
    "Su solución debe tener una función de acuerdo con la siguiente especificación:\n",
    "\n",
    "  - Nombre de la función: mejor_del_salon\n",
    "\n",
    "Si lo requiere, puede agregar funciones adicionales. \n",
    "\n",
    "Descripción de parámetros:\n",
    "\n",
    "| Nombre   | Tipo   | Descripción |\n",
    "| --------- | ----------- | ----------- |\n",
    "| estudiante1 | dict | Diccionario con las notas y el nombre del primer estudiante. |\n",
    "| estudiante2 | dict | Diccionario con las notas y el nombre del segundo estudiante. |\n",
    "| estudiante3 | dict | Diccionario con las notas y el nombre del tercer estudiante. |\n",
    "| estudiante4 | dict | Diccionario con las notas y el nombre del cuarto estudiante. |\n",
    "| estudiante5 | dict | Diccionario con las notas y el nombre del quinto estudiante. |\n",
    "\n",
    "Descripción del retorno:\n",
    "\n",
    "| Tipo | Descripción |\n",
    "| --------- | ----------- |\n",
    "| str | Nombre del mejor estudiante del salón. |"
   ]
  },
  {
   "cell_type": "code",
   "execution_count": null,
   "metadata": {},
   "outputs": [],
   "source": []
  }
 ],
 "metadata": {
  "language_info": {
   "name": "python"
  }
 },
 "nbformat": 4,
 "nbformat_minor": 2
}

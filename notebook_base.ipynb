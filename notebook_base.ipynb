{
 "cells": [
  {
   "cell_type": "markdown",
   "metadata": {},
   "source": [
    "# Titulo"
   ]
  },
  {
   "cell_type": "code",
   "execution_count": 2,
   "metadata": {},
   "outputs": [],
   "source": [
    "%reset -f"
   ]
  },
  {
   "cell_type": "code",
   "execution_count": 3,
   "metadata": {},
   "outputs": [],
   "source": [
    "import matplotlib.pyplot as plt\n",
    "import pandas as pd\n",
    "import numpy as np"
   ]
  },
  {
   "cell_type": "code",
   "execution_count": 4,
   "metadata": {},
   "outputs": [],
   "source": [
    "def cm2inch(cm: float) -> float:\n",
    "    return cm * (1 / 2.54)"
   ]
  },
  {
   "cell_type": "markdown",
   "metadata": {},
   "source": [
    "This portion of code is for those who use vscode and use a custom theme, this will avoid that pesky white line when plotting.\n",
    "\n",
    "Esta celda solo es para evitar lineas blancas al momento de realizar un gráfica usando un tema personalizado en vscode."
   ]
  },
  {
   "cell_type": "code",
   "execution_count": 5,
   "metadata": {},
   "outputs": [
    {
     "data": {
      "text/html": [
       "<style>\n",
       ".cell-output-ipywidget-background {\n",
       "   background-color: transparent !important;\n",
       "}\n",
       ".jp-OutputArea-output {\n",
       "   background-color: transparent;\n",
       "}  \n",
       "</style>\n"
      ],
      "text/plain": [
       "<IPython.core.display.HTML object>"
      ]
     },
     "metadata": {},
     "output_type": "display_data"
    }
   ],
   "source": [
    "%%html\n",
    "<style>\n",
    ".cell-output-ipywidget-background {\n",
    "   background-color: transparent !important;\n",
    "}\n",
    ".jp-OutputArea-output {\n",
    "   background-color: transparent;\n",
    "}  \n",
    "</style>"
   ]
  },
  {
   "cell_type": "markdown",
   "metadata": {},
   "source": [
    "# Color pallet\n",
    "\n",
    "A simple color pallet\n",
    "\n",
    "# Paleta de colores\n",
    "\n",
    "Una paleta de colores personalizada"
   ]
  },
  {
   "cell_type": "code",
   "execution_count": 6,
   "metadata": {},
   "outputs": [],
   "source": [
    "colors ={\n",
    "    'red': '#EB1E2C',\n",
    "    'orange1': '#FD6F30',\n",
    "    'orange2': '#F9A729',\n",
    "    'yellow': '#F9D23C',\n",
    "    'green': '#5FBB68',\n",
    "    'blue': '#00A5E3',\n",
    "    'teal': '#64CDCC',\n",
    "    'aqua': '#91DCEA',\n",
    "    'purple': '#A4A4D5',\n",
    "    'ligth_purple': '#BBC9E5',\n",
    "}"
   ]
  },
  {
   "cell_type": "markdown",
   "metadata": {},
   "source": [
    "# Formato de una función"
   ]
  },
  {
   "cell_type": "code",
   "execution_count": null,
   "metadata": {},
   "outputs": [],
   "source": [
    "def fun(x):\n",
    "  \"\"\"\n",
    "  Función a la cual se le quiere calcular la raiz.\n",
    "\n",
    "  Parameters\n",
    "  ----------\n",
    "  x : variable of the function\n",
    "\n",
    "  Returns\n",
    "  -------\n",
    "  f : function\n",
    "\n",
    "  \"\"\"\n",
    "  f = (x**3) + (5*(x**2)) - (2*x) + 7\n",
    "  return f"
   ]
  }
 ],
 "metadata": {
  "kernelspec": {
   "display_name": "lolaPy",
   "language": "python",
   "name": "python3"
  },
  "language_info": {
   "codemirror_mode": {
    "name": "ipython",
    "version": 3
   },
   "file_extension": ".py",
   "mimetype": "text/x-python",
   "name": "python",
   "nbconvert_exporter": "python",
   "pygments_lexer": "ipython3",
   "version": "3.12.2"
  },
  "orig_nbformat": 4
 },
 "nbformat": 4,
 "nbformat_minor": 2
}
